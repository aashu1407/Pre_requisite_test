{
  "nbformat": 4,
  "nbformat_minor": 0,
  "metadata": {
    "colab": {
      "provenance": []
    },
    "kernelspec": {
      "name": "python3",
      "display_name": "Python 3"
    },
    "language_info": {
      "name": "python"
    }
  },
  "cells": [
    {
      "cell_type": "markdown",
      "source": [
        "Answer 1"
      ],
      "metadata": {
        "id": "ZhL8jOFWeYjE"
      }
    },
    {
      "cell_type": "markdown",
      "source": [
        "To perform matrix multiplication between a (n, k) and (k, m) matrix we need  n * m * k multiplications and n * m * (k - 1) additions. During multiplication, the number of columns of first matrix is k and number of rows of second matrix is k. So for a single row of first matrix and single column of second matrix, multplication happens k times. Now number of columns in second matrix is m. So total number of multiplications will now become k*m. So now as it only happened for a single row of first matrix, it repeats for n rows again. So total number of multiplication will now be n * m * k .\n",
        "For addition, for a single row and column, addition will be one less than the multiplication and everything else remains same. So the number of addition will be  n * m * (k - 1)."
      ],
      "metadata": {
        "id": "FXKlybjxlwVR"
      }
    },
    {
      "cell_type": "markdown",
      "source": [
        "Answer 2"
      ],
      "metadata": {
        "id": "y5ED49cjeecA"
      }
    },
    {
      "cell_type": "markdown",
      "source": [
        "Numpy typically takes less time to multiply two matrices than using list of lists. Numpy is specifically designed for greater efficiency using algorithms and taking less time."
      ],
      "metadata": {
        "id": "lLoRovZfHJKe"
      }
    },
    {
      "cell_type": "code",
      "source": [
        "#List\n",
        "import time\n",
        "def matrixmultiply_list(m1,m2):\n",
        "    n=len(m1)\n",
        "    k=len(m1[0])\n",
        "    m=len(m2[0])\n",
        "    final_matrix_list=[ [0 for _ in range(m)] for _ in range(n)]\n",
        "    for N in range(n):\n",
        "        for M in range(m):\n",
        "            for K in range(k):\n",
        "                final_matrix_list[N][M]=final_matrix_list[N][M]+(m1[N][K]*m2[K][M])\n",
        "    return final_matrix_list\n",
        "\n",
        "\n",
        "print(matrixmultiply_list([[10,11],[21,24]],[[31,32],[12,41]]))\n",
        "\n",
        "start_time = time.time()\n",
        "result_matrix1= matrixmultiply_list([[10,11],[21,24]],[[31,32],[12,41]])\n",
        "end_time = time.time()\n",
        "elapsed_time1 = (end_time - start_time)\n",
        "\n",
        "print(elapsed_time1)\n",
        "\n",
        "#numpy\n",
        "import numpy as np\n",
        "import time\n",
        "def matrixmultiply_numpy(m1,m2):\n",
        "    np_m1=np.array(m1)\n",
        "    np_m2=np.array(m2)\n",
        "    final_matrix_numpy=np.dot(np_m1,np_m2)\n",
        "    return final_matrix_numpy\n",
        "\n",
        "print(matrixmultiply_numpy([[10,11],[21,24]],[[31,32],[12,41]]))\n",
        "start_time = time.time()\n",
        "result_matrix2 = matrixmultiply_numpy([[10,11],[21,24]],[[31,32],[12,41]])\n",
        "end_time = time.time()\n",
        "elapsed_time2 = (end_time - start_time)\n",
        "print(elapsed_time2)"
      ],
      "metadata": {
        "colab": {
          "base_uri": "https://localhost:8080/"
        },
        "id": "acIGrGbyeh3c",
        "outputId": "b339ea6b-1c48-4a95-f8bf-929919dda46b"
      },
      "execution_count": 51,
      "outputs": [
        {
          "output_type": "stream",
          "name": "stdout",
          "text": [
            "[[442, 771], [939, 1656]]\n",
            "0.00017881393432617188\n",
            "[[ 442  771]\n",
            " [ 939 1656]]\n",
            "0.0002353191375732422\n"
          ]
        }
      ]
    },
    {
      "cell_type": "markdown",
      "source": [
        "Answer 3\n"
      ],
      "metadata": {
        "id": "6SRlTUxDff4w"
      }
    },
    {
      "cell_type": "markdown",
      "source": [
        "In finding the median of an array of length n using pass, it requires n/2 passes.So the time complexity would be O(n^2/2) which is equal to O(n^2).\n",
        "The better method would be to use Quickselect algorithm. The time complexity of this selection algorithm is O(n)."
      ],
      "metadata": {
        "id": "2klcTPQKl8N5"
      }
    },
    {
      "cell_type": "code",
      "source": [
        "#pass method\n",
        "def median_pass(x):\n",
        "    for i in range(len(x) // 2):\n",
        "        maximum_number = max(x)\n",
        "        x.remove(maximum_number)\n",
        "    return maximum_number\n",
        "\n",
        "import numpy as np\n",
        "import time\n",
        "\n",
        "#alternative method for median (using Quickselect algorithm)\n",
        "def median_quickselect(y):\n",
        "    if len(y) % 2 == 1:\n",
        "        k = len(y) // 2\n",
        "    else:\n",
        "        k = (len(y) // 2) - 1\n",
        "    return np.partition(y, k)[k]\n",
        "\n",
        "# Example\n",
        "arr = np.random.randint(1, 100, size=500)\n",
        "\n",
        "# using pass\n",
        "start_time = time.time()\n",
        "pass_result = median_pass(arr.tolist())\n",
        "pass_time = time.time() - start_time\n",
        "\n",
        "# QuickSelect\n",
        "start_time = time.time()\n",
        "quickselect_result = median_quickselect(arr)\n",
        "quickselect_time = time.time() - start_time\n",
        "\n",
        "#numpy\n",
        "start_time = time.time()\n",
        "numpy_result = np.median(arr)\n",
        "numpy_time = time.time() - start_time\n",
        "\n",
        "print(f\"Pass Median: {pass_result}, Time: {pass_time:.6f} seconds\")\n",
        "print(f\"QuickSelect Median: {quickselect_result}, Time: {quickselect_time:.6f} seconds\")\n",
        "print(f\"NumPy Median: {numpy_result}, Time: {numpy_time:.6f} seconds\")\n"
      ],
      "metadata": {
        "colab": {
          "base_uri": "https://localhost:8080/"
        },
        "id": "G1OjJyEjfkRZ",
        "outputId": "78361b44-a335-4c36-b316-cb7a0dea822f"
      },
      "execution_count": 23,
      "outputs": [
        {
          "output_type": "stream",
          "name": "stdout",
          "text": [
            "Pass Median: 49, Time: 0.004796 seconds\n",
            "QuickSelect Median: 48, Time: 0.000219 seconds\n",
            "NumPy Median: 48.5, Time: 0.000374 seconds\n"
          ]
        }
      ]
    },
    {
      "cell_type": "markdown",
      "source": [
        "Answer 4\n",
        "             "
      ],
      "metadata": {
        "id": "U6Expo1qgC0h"
      }
    },
    {
      "cell_type": "markdown",
      "source": [
        "f(x)=((x^2)*y)+(y^3)sin(x)\n",
        "         δf/δx = 2xy+(y^3)cos(x)\n",
        "         δf/δy=(x^2)+3(y^2)sin(x)\n",
        "when the gradient is evaluated with respect to a certain variable then the other variables are considered to be constant.  "
      ],
      "metadata": {
        "id": "hcjIkjQMmCld"
      }
    },
    {
      "cell_type": "markdown",
      "source": [
        "Answer 6"
      ],
      "metadata": {
        "id": "c4crzX04lpFm"
      }
    },
    {
      "cell_type": "code",
      "source": [
        "import sympy as sp\n",
        "\n",
        "x, y = sp.symbols('x y')\n",
        "f = x**2 * y + y**3 * sp.sin(x)\n",
        "\n",
        "gradient_of_f = sp.derive_by_array(f, (x, y))\n",
        "\n",
        "print(\"Gradient of f(x, y) is:\", gradient_of_f)\n"
      ],
      "metadata": {
        "colab": {
          "base_uri": "https://localhost:8080/"
        },
        "id": "sFHj63O9neq8",
        "outputId": "e8bcf327-156f-4b0c-a005-a11be5044ee3"
      },
      "execution_count": 17,
      "outputs": [
        {
          "output_type": "stream",
          "name": "stdout",
          "text": [
            "Gradient of f(x, y) is: [2*x*y + y**3*cos(x), x**2 + 3*y**2*sin(x)]\n"
          ]
        }
      ]
    },
    {
      "cell_type": "markdown",
      "source": [
        "Answer 7\n"
      ],
      "metadata": {
        "id": "zoVAJPeZn53j"
      }
    },
    {
      "cell_type": "code",
      "source": [
        "student_records = {}\n",
        "\n",
        "student_records[2022] = {\n",
        "    'Branch 1': {\n",
        "        1: {'Roll Number': '1', 'Name': 'Student 1', 'Marks': {'Maths': 100, 'Science': 95}},\n",
        "        2: {'Roll Number': '2', 'Name': 'Student 2', 'Marks': {'Maths': 90, 'Science': 75}}\n",
        "    },\n",
        "    'Branch 2': {\n",
        "        1: {'Roll Number': '1', 'Name': 'Student 1', 'Marks': {'Maths': 100, 'Science': 80}}\n",
        "    }\n",
        "}\n",
        "\n",
        "for year in range(2023, 2026):\n",
        "    student_records[year] = {'Branch 1': {}, 'Branch 2': {}}\n",
        "\n",
        "print(student_records)\n"
      ],
      "metadata": {
        "colab": {
          "base_uri": "https://localhost:8080/"
        },
        "id": "4tnTOvFYn8Ja",
        "outputId": "60b2abd3-7b4f-4aab-e53b-648b08ca55a0"
      },
      "execution_count": 21,
      "outputs": [
        {
          "output_type": "stream",
          "name": "stdout",
          "text": [
            "{2022: {'Branch 1': {1: {'Roll Number': '1', 'Name': 'Student 1', 'Marks': {'Maths': 100, 'Science': 95}}, 2: {'Roll Number': '2', 'Name': 'Student 2', 'Marks': {'Maths': 90, 'Science': 75}}}, 'Branch 2': {1: {'Roll Number': '1', 'Name': 'Student 1', 'Marks': {'Maths': 100, 'Science': 80}}}}, 2023: {'Branch 1': {}, 'Branch 2': {}}, 2024: {'Branch 1': {}, 'Branch 2': {}}, 2025: {'Branch 1': {}, 'Branch 2': {}}}\n"
          ]
        }
      ]
    },
    {
      "cell_type": "markdown",
      "source": [
        "Answer 9"
      ],
      "metadata": {
        "id": "T6HWOLau2Ihm"
      }
    },
    {
      "cell_type": "code",
      "source": [
        "import matplotlib.pyplot as plt\n",
        "import numpy as np\n",
        "\n",
        "x_values = np.arange(0.5, 100.01, 0.5)\n",
        "y1=x_values\n",
        "y2=x_values**2\n",
        "y3=(x_values**3) / 100\n",
        "y4=np.sin(x_values)\n",
        "y5=np.sin(x_values) / x_values\n",
        "y6=np.log(x_values)\n",
        "y7=np.exp(x_values)\n",
        "\n",
        "plt.figure(figsize=(10, 8))\n",
        "\n",
        "plt.subplot(4, 2, 1)\n",
        "plt.plot(x_values, y1, label='y = x')\n",
        "plt.legend()\n",
        "\n",
        "plt.subplot(4, 2, 2)\n",
        "plt.plot(x_values, y2, label='y = x^2')\n",
        "plt.legend()\n",
        "\n",
        "plt.subplot(4, 2, 3)\n",
        "plt.plot(x_values, y3, label='y = x^3/100')\n",
        "plt.legend()\n",
        "\n",
        "plt.subplot(4, 2, 4)\n",
        "plt.plot(x_values, y4, label='y = sin(x)')\n",
        "plt.legend()\n",
        "\n",
        "plt.subplot(4, 2, 5)\n",
        "plt.plot(x_values, y5, label='y = sin(x)/x')\n",
        "plt.legend()\n",
        "\n",
        "plt.subplot(4, 2, 6)\n",
        "plt.plot(x_values, y6, label='y = log(x)')\n",
        "plt.legend()\n",
        "\n",
        "plt.subplot(4, 2, 7)\n",
        "plt.plot(x_values, y7, label='y = e^x')\n",
        "plt.legend()\n",
        "\n",
        "plt.show()"
      ],
      "metadata": {
        "colab": {
          "base_uri": "https://localhost:8080/",
          "height": 676
        },
        "id": "xd1a0h9i2KYa",
        "outputId": "3c64fdea-167a-4f3d-d025-6cc784e215ae"
      },
      "execution_count": 39,
      "outputs": [
        {
          "output_type": "display_data",
          "data": {
            "text/plain": [
              "<Figure size 1000x800 with 7 Axes>"
            ],
            "image/png": "[encoded data removed]"
          },
          "metadata": {}
        }
      ]
    },
    {
      "cell_type": "markdown",
      "source": [
        "Answer 10"
      ],
      "metadata": {
        "id": "oTWKu_uS6vFV"
      }
    },
    {
      "cell_type": "code",
      "source": [
        "import numpy as np\n",
        "import pandas as pd\n",
        "\n",
        "random_matrix = np.random.uniform(1, 2, size=(20, 5))\n",
        "\n",
        "df = pd.DataFrame(random_matrix, columns=[\"a\", \"b\", \"c\", \"d\", \"e\"])\n",
        "\n",
        "maximum_std_column = df.std().idxmax()\n",
        "minimum_mean_row = df.mean(axis=1).idxmin()\n",
        "\n",
        "print(\"DataFrame:\")\n",
        "print(df)\n",
        "\n",
        "print(\"\\nColumn having highest standard deviation:\", maximum_std_column)\n",
        "print(\"\\nRow having lowest mean:\", minimum_mean_row)\n"
      ],
      "metadata": {
        "colab": {
          "base_uri": "https://localhost:8080/"
        },
        "id": "CQrtctsT6wSf",
        "outputId": "7ee36adc-7145-42c2-d861-1244be98fd75"
      },
      "execution_count": 40,
      "outputs": [
        {
          "output_type": "stream",
          "name": "stdout",
          "text": [
            "DataFrame:\n",
            "           a         b         c         d         e\n",
            "0   1.899499  1.584359  1.131961  1.839848  1.881143\n",
            "1   1.425636  1.240546  1.499585  1.045899  1.953190\n",
            "2   1.987904  1.132615  1.690371  1.434814  1.761997\n",
            "3   1.898507  1.793758  1.644120  1.213210  1.977824\n",
            "4   1.084322  1.656426  1.428099  1.898717  1.484721\n",
            "5   1.100827  1.488687  1.159358  1.186748  1.186923\n",
            "6   1.903044  1.318247  1.075312  1.364933  1.120884\n",
            "7   1.415202  1.828974  1.528650  1.524519  1.897913\n",
            "8   1.014792  1.476178  1.911554  1.119721  1.263857\n",
            "9   1.657406  1.067800  1.445610  1.491793  1.020238\n",
            "10  1.364432  1.396635  1.202356  1.360897  1.654117\n",
            "11  1.803958  1.112154  1.488838  1.781340  1.673889\n",
            "12  1.473012  1.441461  1.805080  1.266406  1.237306\n",
            "13  1.848654  1.339764  1.216580  1.168941  1.278099\n",
            "14  1.794189  1.061344  1.948916  1.801984  1.232966\n",
            "15  1.762213  1.405272  1.443321  1.493621  1.987937\n",
            "16  1.930088  1.759139  1.847769  1.830925  1.072975\n",
            "17  1.742881  1.628549  1.272289  1.401645  1.571689\n",
            "18  1.912230  1.535956  1.569749  1.014146  1.918977\n",
            "19  1.340780  1.774022  1.195507  1.691694  1.551246\n",
            "\n",
            "Column having highest standard deviation: e\n",
            "\n",
            "Row having lowest mean: 5\n"
          ]
        }
      ]
    },
    {
      "cell_type": "markdown",
      "source": [
        "Answer11"
      ],
      "metadata": {
        "id": "2Y6v3ub_787u"
      }
    },
    {
      "cell_type": "code",
      "source": [
        "import numpy as np\n",
        "import pandas as pd\n",
        "\n",
        "random_matrix = np.random.uniform(1, 2, size=(20, 5))\n",
        "\n",
        "df = pd.DataFrame(random_matrix, columns=[\"a\", \"b\", \"c\", \"d\", \"e\"])\n",
        "df['f'] = df[['a', 'b', 'c', 'd', 'e']].sum(axis=1)\n",
        "df['g'] = np.where(df['f'] < 8, 'LT8', 'GT8')\n",
        "\n",
        "num_rows_g_LT8 = df[df['g'] == 'LT8'].shape[0]\n",
        "std_g_LT8 = df.loc[df['g'] == 'LT8', 'f'].std()\n",
        "std_g_GT8 = df.loc[df['g'] == 'GT8', 'f'].std()\n",
        "\n",
        "\n",
        "print(f\"Updated DataFrame: {df}\")\n",
        "print(\"\\nNumber of rows where the value in column 'g' is 'LT8':\", num_rows_g_LT8)\n",
        "print(\"Standard deviation of column 'f' in which 'g' is 'LT8':\", std_g_LT8)\n",
        "print(\"Standard deviation of column 'f' in which 'g' is 'GT8':\", std_g_GT8)\n"
      ],
      "metadata": {
        "colab": {
          "base_uri": "https://localhost:8080/"
        },
        "id": "KiMsBXcx8BXX",
        "outputId": "30fff2f9-07b5-4b94-e9f4-f08ba95ddf7c"
      },
      "execution_count": 41,
      "outputs": [
        {
          "output_type": "stream",
          "name": "stdout",
          "text": [
            "Updated DataFrame:            a         b         c         d         e         f    g\n",
            "0   1.517525  1.620140  1.517766  1.733659  1.470885  7.859974  LT8\n",
            "1   1.996612  1.714373  1.985955  1.179778  1.905577  8.782294  GT8\n",
            "2   1.734302  1.021971  1.123317  1.963906  1.470670  7.314166  LT8\n",
            "3   1.289536  1.161438  1.026579  1.504284  1.768163  6.750000  LT8\n",
            "4   1.000441  1.498883  1.569269  1.610427  1.144960  6.823980  LT8\n",
            "5   1.409664  1.600322  1.631767  1.801673  1.655370  8.098795  GT8\n",
            "6   1.968696  1.103593  1.419533  1.457471  1.723432  7.672724  LT8\n",
            "7   1.392576  1.734949  1.012288  1.929536  1.403520  7.472868  LT8\n",
            "8   1.510776  1.592657  1.652816  1.516483  1.287771  7.560503  LT8\n",
            "9   1.156900  1.145244  1.696732  1.709267  1.578054  7.286196  LT8\n",
            "10  1.700459  1.269349  1.341168  1.160608  1.025088  6.496671  LT8\n",
            "11  1.977364  1.199361  1.176043  1.862323  1.413855  7.628946  LT8\n",
            "12  1.502794  1.557815  1.697910  1.447001  1.355497  7.561018  LT8\n",
            "13  1.284362  1.773472  1.870333  1.085511  1.496314  7.509992  LT8\n",
            "14  1.861366  1.175051  1.017338  1.406534  1.333317  6.793606  LT8\n",
            "15  1.485085  1.642225  1.136542  1.239901  1.243274  6.747027  LT8\n",
            "16  1.780732  1.655417  1.564956  1.073401  1.822357  7.896864  LT8\n",
            "17  1.180071  1.104039  1.900074  1.019508  1.402385  6.606077  LT8\n",
            "18  1.831593  1.734807  1.389059  1.501761  1.369925  7.827145  LT8\n",
            "19  1.250756  1.174027  1.070958  1.128841  1.490411  6.114992  LT8\n",
            "\n",
            "Number of rows where the value in column 'g' is 'LT8': 18\n",
            "Standard deviation of column 'f' in which 'g' is 'LT8': 0.537224482908934\n",
            "Standard deviation of column 'f' in which 'g' is 'GT8': 0.48330681253464863\n"
          ]
        }
      ]
    },
    {
      "cell_type": "markdown",
      "source": [
        "Answer 12"
      ],
      "metadata": {
        "id": "MDHbr0bfA2Ha"
      }
    },
    {
      "cell_type": "markdown",
      "source": [
        " Broadcasting is a feature in NumPy that allows(eases) operations between arrays of different shapes and sizes without the need for explicit looping."
      ],
      "metadata": {
        "id": "lHVX4EsmBGMj"
      }
    },
    {
      "cell_type": "code",
      "source": [
        "import numpy as np\n",
        "\n",
        "array1 = np.array([[2, 2, 4], [4, 10, 9]])\n",
        "array2 = np.array([1,4,5])\n",
        "\n",
        "result = array1 + array2\n",
        "\n",
        "print(f\"\\nResult:{result}\")\n"
      ],
      "metadata": {
        "colab": {
          "base_uri": "https://localhost:8080/"
        },
        "id": "bh_-2b3aA3Px",
        "outputId": "adf81b19-b920-41da-aa7c-59f9a6d7c936"
      },
      "execution_count": 45,
      "outputs": [
        {
          "output_type": "stream",
          "name": "stdout",
          "text": [
            "\n",
            "Result:[[ 3  6  9]\n",
            " [ 5 14 14]]\n"
          ]
        }
      ]
    },
    {
      "cell_type": "markdown",
      "source": [
        "Answer 13"
      ],
      "metadata": {
        "id": "zQxdK2MYCpj3"
      }
    },
    {
      "cell_type": "code",
      "source": [
        "import numpy as np\n",
        "\n",
        "def argmin_index(arr):\n",
        "    minimum_value = arr[0]\n",
        "    minimum_index = 0\n",
        "\n",
        "    for i in range(len(arr)):\n",
        "        if arr[i] < minimum_value:\n",
        "            minimum_value = arr[i]\n",
        "            minimum_index = i\n",
        "\n",
        "    return minimum_index\n",
        "\n",
        "array1 = np.array([1,6,3,8,0,9])\n",
        "argmin_index = argmin_index(array1)\n",
        "result_np_argmin = np.argmin(array1)\n",
        "\n",
        "print(\"normal argmin result:\", argmin_index)\n",
        "print(\"NumPy argmin result:\", result_np_argmin)\n"
      ],
      "metadata": {
        "colab": {
          "base_uri": "https://localhost:8080/"
        },
        "id": "xKXrKDe3Cqsn",
        "outputId": "a4a24a3a-8bfb-4d27-a12a-e2ea43e2654f"
      },
      "execution_count": 50,
      "outputs": [
        {
          "output_type": "stream",
          "name": "stdout",
          "text": [
            "normal argmin result: 4\n",
            "NumPy argmin result: 4\n"
          ]
        }
      ]
    }
  ]
}